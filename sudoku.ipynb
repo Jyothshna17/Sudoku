{
  "nbformat": 4,
  "nbformat_minor": 0,
  "metadata": {
    "colab": {
      "private_outputs": true,
      "provenance": []
    },
    "kernelspec": {
      "name": "python3",
      "display_name": "Python 3"
    },
    "language_info": {
      "name": "python"
    }
  },
  "cells": [
    {
      "cell_type": "code",
      "source": [
        "import numpy as np\n",
        "\n",
        "grid = [[5,3,0,0,7,0,0,0,0],\n",
        "        [6,0,0,1,9,5,0,0,0],\n",
        "        [0,9,8,0,0,0,0,6,0],\n",
        "        [8,0,0,0,6,0,0,0,3],\n",
        "        [4,0,0,8,0,3,0,0,1],\n",
        "        [7,0,0,0,2,0,0,0,6],\n",
        "        [0,6,0,0,0,0,2,8,0],\n",
        "        [0,0,0,0,1,9,0,0,5],\n",
        "        [0,0,0,0,0,0,0,0,0]]\n",
        "\n",
        "def possible(row, col, value):\n",
        "    global grid\n",
        "    # Check row\n",
        "    for i in range(0,9):\n",
        "        if grid[row][i] == value:\n",
        "            return False\n",
        "    # Check column\n",
        "    for j in range(0,9):\n",
        "        if grid[j][col] == value:\n",
        "            return False\n",
        "    # Check 3x3 sub-grid\n",
        "    sub_row = (row // 3) * 3\n",
        "    sub_col = (col // 3) * 3\n",
        "    for i in range(0,3):\n",
        "        for j in range(0,3):\n",
        "            if grid[sub_row + i][sub_col + j] == value:\n",
        "                return False\n",
        "    return True\n",
        "\n",
        "def solve():\n",
        "    global grid\n",
        "    for row in range(0,9):\n",
        "        for col in range(0,9):\n",
        "            if grid[row][col] == 0:\n",
        "                for value in range(1, 10):\n",
        "                    if possible(row, col, value):\n",
        "                        grid[row][col] = value\n",
        "                        solve()\n",
        "                        grid[row][col] = 0\n",
        "                return \n",
        "\n",
        "    print(np.matrix(grid))\n",
        "    input(\"Another Solution\")\n",
        "\n",
        "solve()"
      ],
      "metadata": {
        "id": "V4WxEWid7RZe"
      },
      "execution_count": null,
      "outputs": []
    }
  ]
}